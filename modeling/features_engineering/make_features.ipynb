{
 "cells": [
  {
   "cell_type": "code",
   "execution_count": 2,
   "metadata": {},
   "outputs": [],
   "source": [
    "import pandas as pd\n",
    "import numpy as np\n",
    "from numpy.fft import fft\n",
    "import sys\n",
    "import os\n",
    "import logging\n",
    "sys.path.insert(0, '../')\n",
    "import features_engineering_functions  as fef\n",
    "sys.path.insert(0, '../..')\n",
    "from config import *"
   ]
  },
  {
   "cell_type": "markdown",
   "metadata": {},
   "source": [
    "# Models parameters, features and constants"
   ]
  },
  {
   "cell_type": "code",
   "execution_count": 5,
   "metadata": {},
   "outputs": [],
   "source": [
    "toto = pd.DataFrame()\n",
    "toto.to_csv(DIR_SAVE_FEATURES + 'toto.csv')"
   ]
  },
  {
   "cell_type": "code",
   "execution_count": 4,
   "metadata": {},
   "outputs": [],
   "source": [
    "\n",
    "\n",
    "'''\n",
    "files and directory gestion, the test file is csv_test\n",
    "'''\n",
    "DIR_CSV_MODEL = DIR_TAGGED_EVT\n",
    "DIR_SAVE_FEATURES = 'saved_features/'\n",
    "list_evt_files = os.listdir(DIR_CSV_MODEL)[1:]\n",
    "\n",
    "'''\n",
    "Model hyperparmeters and constants\n",
    "'''\n",
    "DUREE_EPOCH = 5\n",
    "WINDOW_OVERLAP = DUREE_EPOCH / 2\n",
    "ENTROPY_WINDOWS = [[0,DUREE_EPOCH / 2],[DUREE_EPOCH / 2 , DUREE_EPOCH]]\n",
    "\n",
    "list_evt_infos_columns = ['evt_name','epoch_nb','label']\n",
    "list_members = LIST_MODEL_MEMBERS\n"
   ]
  },
  {
   "cell_type": "code",
   "execution_count": 6,
   "metadata": {},
   "outputs": [],
   "source": [
    "'''\n",
    "Time features\n",
    "'''\n",
    "list_time_features = ['mean','std','min','max','mean_absolute','up_down']\n",
    "dic_tf_functions = fef.get_dic_time_features_functions()\n",
    "list_time_features = fef.get_times_features_name(list_members,list_time_features)\n",
    "\n",
    "'''\n",
    "Entropy features\n",
    "'''\n",
    "entropy_features = ['ent_tot','ent_left','ent_right']\n",
    "list_entropy_features = fef.get_entropy_features_name(list_members,entropy_features)\n",
    "\n",
    "'''\n",
    "Fourier features and parameters\n",
    "'''\n",
    "\n",
    "fourier_window_size = DUREE_EPOCH\n",
    "# list_intervalle_frequence_fourier = list(range(24))\n",
    "list_intervalle_frequence_fourier = [0,5,9,23]\n",
    "list_fourier_features = fef.get_fourier_features_names(list_intervalle_frequence_fourier,list_members)\n",
    "\n",
    "'''\n",
    "wavelet features\n",
    "'''\n",
    "\n",
    "'''\n",
    "All features with meta data\n",
    "'''\n",
    "list_all_features = fef.make_all_features_list(list_time_features,list_fourier_features,list_entropy_features,True)\n",
    "list_all_features = list_all_features + ['correlation', 'spectre_MSG','spectre_MSD']\n",
    "\n"
   ]
  },
  {
   "cell_type": "code",
   "execution_count": 17,
   "metadata": {},
   "outputs": [
    {
     "name": "stdout",
     "output_type": "stream",
     "text": [
      "1\n",
      "fichier no 0 _ fichier features no  1\n",
      "20100319T093900RIG.csv  is out of bornes\n",
      "20100319T104200RIG.csv  is out of bornes\n",
      "fichier no 2 _ fichier features no  1\n",
      "20100319T103600RIG.csv  is out of bornes\n",
      "20100319T094600RIG.csv  is out of bornes\n",
      "fichier no 4 _ fichier features no  1\n",
      "20100319T102954RIG.csv  is out of bornes\n",
      "2\n",
      "fichier no 6 _ fichier features no  2\n",
      "3\n",
      "4\n",
      "fichier no 8 _ fichier features no  4\n",
      "5\n",
      "6\n",
      "fichier no 10 _ fichier features no  6\n",
      "7\n",
      "8\n",
      "fichier no 12 _ fichier features no  8\n",
      "9\n",
      "10\n",
      "fichier no 14 _ fichier features no  10\n",
      "11\n",
      "12\n",
      "fichier no 16 _ fichier features no  12\n",
      "13\n",
      "14\n",
      "fichier no 18 _ fichier features no  14\n",
      "15\n",
      "16\n",
      "fichier no 20 _ fichier features no  16\n",
      "17\n",
      "18\n",
      "fichier no 22 _ fichier features no  18\n",
      "20051130T105454MARMIR.csv  is out of bornes\n",
      "19\n",
      "fichier no 24 _ fichier features no  19\n",
      "20100308T143600RHM.csv  is out of bornes\n",
      "20100308T153300RHM.csv  is out of bornes\n",
      "fichier no 26 _ fichier features no  19\n",
      "20100308T150400RHM.csv  is out of bornes\n",
      "20090825T094800TOT.csv  is out of bornes\n",
      "fichier no 28 _ fichier features no  19\n",
      "20090825T111900TOT.csv  is out of bornes\n",
      "20091120T095503KSY.csv  is out of bornes\n",
      "fichier no 30 _ fichier features no  19\n",
      "20\n",
      "21\n",
      "fichier no 32 _ fichier features no  21\n",
      "22\n",
      "20100520T155400EXC.csv  is out of bornes\n",
      "fichier no 34 _ fichier features no  22\n",
      "20051219T102600MORGUI2.csv  is out of bornes\n",
      "20051219T102600MORGUI.csv  is out of bornes\n",
      "fichier no 36 _ fichier features no  22\n",
      "23\n",
      "24\n",
      "fichier no 38 _ fichier features no  24\n",
      "20090717T093800RAS.csv  is out of bornes\n",
      "20100108T112800KAB.csv  is out of bornes\n",
      "fichier no 40 _ fichier features no  24\n",
      "25\n",
      "26\n",
      "fichier no 42 _ fichier features no  26\n",
      "20100107T155500KAB.csv  is out of bornes\n",
      "27\n",
      "fichier no 44 _ fichier features no  27\n",
      "28\n",
      "20100107T104800KAB.csv  is out of bornes\n",
      "fichier no 46 _ fichier features no  28\n",
      "29\n",
      "30\n",
      "fichier no 48 _ fichier features no  30\n",
      "31\n",
      "32\n",
      "fichier no 50 _ fichier features no  32\n",
      "20100317T154800RIG.csv  is out of bornes\n",
      "20100317T161100RIG.csv  is out of bornes\n",
      "fichier no 52 _ fichier features no  32\n",
      "33\n",
      "34\n",
      "fichier no 54 _ fichier features no  34\n",
      "35\n",
      "36\n",
      "fichier no 56 _ fichier features no  36\n",
      "37\n",
      "38\n",
      "fichier no 58 _ fichier features no  38\n",
      "39\n",
      "40\n",
      "fichier no 60 _ fichier features no  40\n",
      "20100826T131038OUE.csv  is out of bornes\n",
      "41\n",
      "fichier no 62 _ fichier features no  41\n",
      "20100111T121300KAB.csv  is out of bornes\n",
      "20100111T112000KAB.csv  is out of bornes\n",
      "fichier no 64 _ fichier features no  41\n",
      "20100112T102000KAB.csv  is out of bornes\n",
      "20100702T143500MIJ.csv  is out of bornes\n",
      "fichier no 66 _ fichier features no  41\n",
      "20100414T103300MOR.csv  is out of bornes\n",
      "42\n",
      "fichier no 68 _ fichier features no  42\n",
      "20091211T105600MOG.csv  is out of bornes\n",
      "43\n",
      "fichier no 70 _ fichier features no  43\n",
      "44\n",
      "20060223T133700PANGAE.csv  is out of bornes\n",
      "fichier no 72 _ fichier features no  44\n",
      "45\n",
      "46\n",
      "fichier no 74 _ fichier features no  46\n",
      "47\n",
      "20091123T104740KSY.csv  is out of bornes\n",
      "fichier no 76 _ fichier features no  47\n",
      "20090825T134600FAJ.csv  is out of bornes\n",
      "48\n",
      "fichier no 78 _ fichier features no  48\n",
      "49\n",
      "50\n",
      "fichier no 80 _ fichier features no  50\n",
      "51\n",
      "20100121T110600POS.csv  is out of bornes\n",
      "fichier no 82 _ fichier features no  51\n",
      "20090715T141400RAS.csv  is out of bornes\n",
      "52\n",
      "fichier no 84 _ fichier features no  52\n",
      "53\n",
      "54\n",
      "fichier no 86 _ fichier features no  54\n",
      "20051129T104837MARMIR.csv  is out of bornes\n",
      "20100819T144000TEA.csv  is out of bornes\n",
      "fichier no 88 _ fichier features no  54\n",
      "55\n",
      "56\n",
      "fichier no 90 _ fichier features no  56\n",
      "57\n",
      "58\n",
      "fichier no 92 _ fichier features no  58\n",
      "59\n",
      "20051201T101500MARMIR.csv  is out of bornes\n",
      "fichier no 94 _ fichier features no  59\n",
      "20051201T114326MARMIR.csv  is out of bornes\n",
      "20051220T092100MORGUI.csv  is out of bornes\n",
      "fichier no 96 _ fichier features no  59\n",
      "20100520T104600EXC.csv  is out of bornes\n",
      "20100310T155530RHM.csv  is out of bornes\n",
      "fichier no 98 _ fichier features no  59\n",
      "20100824T133400DEC.csv  is out of bornes\n",
      "20100721T092200BED.csv  is out of bornes\n",
      "fichier no 100 _ fichier features no  59\n",
      "20090825T142500TOT.csv  is out of bornes\n",
      "20100310T102400RHM.csv  is out of bornes\n",
      "fichier no 102 _ fichier features no  59\n",
      "20100721T095700ERQ.csv  is out of bornes\n",
      "60\n",
      "fichier no 104 _ fichier features no  60\n",
      "61\n",
      "62\n",
      "fichier no 106 _ fichier features no  62\n",
      "20051129T152406MARMIR.csv  is out of bornes\n",
      "20100721T092000ERQ.csv  is out of bornes\n",
      "fichier no 108 _ fichier features no  62\n"
     ]
    }
   ],
   "source": [
    "df_model_all_seizure = pd.DataFrame(columns=list_all_features)\n",
    "df_model_all_seizure = df_model_all_seizure.astype({\"spectre_MSG\" : object})\n",
    "df_model_all_seizure = df_model_all_seizure.astype({\"spectre_MSD\" : object})\n",
    "csv_saving_name = 'essai_2'\n",
    "save_files = True\n",
    "i,it = 0,0\n",
    "borne_acc = 0.04\n",
    "list_file_temp = list_evt_files\n",
    "\n",
    "for i,csv_name in enumerate(list_file_temp):\n",
    "\n",
    "    df_data_csv,mean_msg,mean_msd = fef.make_model_df_from_csv(csv_name,DIR_CSV_MODEL)\n",
    "\n",
    "    '''\n",
    "    We select only files with acceleration mean betweene 1 - ba & 1 + ba\n",
    "    '''\n",
    "    if ((1-borne_acc) < mean_msg < (1+borne_acc)) & ((1-borne_acc) < mean_msd < (1+borne_acc)):\n",
    "        it += 1\n",
    "        print(it)\n",
    "        df_data_csv['MSG'] = df_data_csv['MSG'] - df_data_csv['MSG'].mean()\n",
    "        df_data_csv['MSD'] = df_data_csv['MSD'] - df_data_csv['MSD'].mean()\n",
    "        df_data_csv['seizure'] = [k > 0 for k in df_data_csv['seizure'].tolist()]\n",
    "\n",
    "        df_model_one_seizure,nb_epoch = fef.make_model_df(df_data_csv,list_all_features,DUREE_EPOCH)\n",
    "        df_model_one_seizure = df_model_one_seizure.astype({\"spectre_MSG\" : object})\n",
    "        df_model_one_seizure = df_model_one_seizure.astype({\"spectre_MSD\" : object})\n",
    "\n",
    "        for epoch in range(nb_epoch):\n",
    "            df_epoch = fef.get_epoch_df(df_data_csv,epoch,duree_epoch = DUREE_EPOCH)\n",
    "            df_model_one_seizure.loc[epoch,'epoch_nb'] = epoch\n",
    "            df_model_one_seizure.loc[epoch,'label'] = df_epoch.seizure.mean()\n",
    "            df_model_one_seizure.loc[epoch,list_time_features] = fef.get_times_features_value(df_epoch,list_members,dic_tf_functions)\n",
    "            ff_MSG,spectre_MSG = fef.get_epoch_fourier_features(df_epoch,'MSG',list_intervalle_frequence_fourier)\n",
    "            ff_MSD,spectre_MSD = fef.get_epoch_fourier_features(df_epoch,'MSD',list_intervalle_frequence_fourier)\n",
    "            df_model_one_seizure.loc[epoch,list_fourier_features] = ff_MSG + ff_MSD\n",
    "            df_model_one_seizure.at[epoch,'spectre_MSG'] = spectre_MSG\n",
    "            df_model_one_seizure.at[epoch,'spectre_MSD'] = spectre_MSD\n",
    "            correlation = df_epoch[['MSG','MSD']].corr().iloc[0,1]\n",
    "            ent_MSG = fef.get_entropy_from_epoch(df_epoch['MSG'],300,'MSG')\n",
    "            ent_MSD = fef.get_entropy_from_epoch(df_epoch['MSD'],300,'MSD')\n",
    "            df_model_one_seizure.loc[epoch,list_entropy_features] = ent_MSG + ent_MSD\n",
    "            df_model_one_seizure.loc[epoch,'correlation'] = correlation\n",
    "            \n",
    "        df_model_one_seizure['evt_name'] = csv_name[:-4]\n",
    "\n",
    "        df_model_all_seizure = pd.concat([df_model_all_seizure,df_model_one_seizure]) \n",
    "            \n",
    "    else: \n",
    "        print(csv_name, ' is out of bornes')   \n",
    "    if i % 2 == 0:\n",
    "        print('fichier no', i ,'_', 'fichier features no ',it)\n",
    "        if save_files:\n",
    "            df_model_all_seizure.to_csv(DIR_SAVE_FEATURES + csv_saving_name)\n",
    "    "
   ]
  },
  {
   "cell_type": "code",
   "execution_count": 16,
   "metadata": {},
   "outputs": [
    {
     "data": {
      "text/plain": [
       "5"
      ]
     },
     "execution_count": 16,
     "metadata": {},
     "output_type": "execute_result"
    }
   ],
   "source": [
    "len(set(df_model_all_seizure.evt_name.tolist()))"
   ]
  },
  {
   "cell_type": "code",
   "execution_count": 14,
   "metadata": {},
   "outputs": [
    {
     "data": {
      "text/plain": [
       "0         0.0\n",
       "1         0.0\n",
       "2         0.0\n",
       "3         0.0\n",
       "4         0.0\n",
       "5         0.0\n",
       "6         0.0\n",
       "7         0.0\n",
       "8         0.0\n",
       "9         0.0\n",
       "10        0.0\n",
       "11        0.0\n",
       "12        0.0\n",
       "13        0.0\n",
       "14        0.0\n",
       "15        0.0\n",
       "16        0.0\n",
       "17        0.0\n",
       "18        0.0\n",
       "19        0.0\n",
       "20        0.0\n",
       "21        0.0\n",
       "22        0.0\n",
       "23        0.0\n",
       "24        0.0\n",
       "25     3120.0\n",
       "26     5893.0\n",
       "27     5037.0\n",
       "28    17125.0\n",
       "29    18330.0\n",
       "30     7304.0\n",
       "31     3819.0\n",
       "32     8148.0\n",
       "33    18669.0\n",
       "34    23572.0\n",
       "35    24112.0\n",
       "36    23074.0\n",
       "37    25591.0\n",
       "38    28552.0\n",
       "39    28561.0\n",
       "40    28724.0\n",
       "41    26775.0\n",
       "42    25012.0\n",
       "43    26080.0\n",
       "44    27680.0\n",
       "45    26492.0\n",
       "dtype: float64"
      ]
     },
     "execution_count": 14,
     "metadata": {},
     "output_type": "execute_result"
    }
   ],
   "source": [
    "df_model_one_seizure.up_down_MSG * df_model_one_seizure.up_down_MSD "
   ]
  },
  {
   "cell_type": "code",
   "execution_count": 18,
   "metadata": {},
   "outputs": [],
   "source": [
    "member = 'MSD'\n",
    "wavelet_type = 'db1'\n",
    "wavelet_level = 5\n",
    "'''\n",
    "return a df for graf and e discret wavelet heatmap, arguments are : \n",
    "    - acc data csv name\n",
    "    - member (MSG or MSD)\n",
    "    - discret wavelet trype\n",
    "    - number of coefficient level required\n",
    "'''\n",
    "df_graf = df_epoch.copy(deep = True) # pd.read_csv(csv_path,index_col = 0)"
   ]
  },
  {
   "cell_type": "code",
   "execution_count": 21,
   "metadata": {},
   "outputs": [],
   "source": [
    "import pywt"
   ]
  },
  {
   "cell_type": "code",
   "execution_count": 23,
   "metadata": {},
   "outputs": [
    {
     "name": "stdout",
     "output_type": "stream",
     "text": [
      "db1\n"
     ]
    }
   ],
   "source": [
    "\n",
    "df_graf.timeline = [round(i) - df_graf.timeline.iloc[0] for i in list(df_graf.timeline)]\n",
    "\n",
    "np_x = df_graf[member].to_numpy()\n",
    "np_x = np_x - np.mean(np_x) #pour ne pas charger les plus basses fréquences\n",
    "    # np_x = np_x[10000:15000]\n",
    "print(wavelet_type)\n",
    "wv_signal = pywt.wavedec(np_x,wavelet_type,level = wavelet_level)\n",
    "# df_frequency_for_heatmap = utils.return_frequency_dataframe(wv_signal)\n"
   ]
  },
  {
   "cell_type": "code",
   "execution_count": 40,
   "metadata": {},
   "outputs": [
    {
     "data": {
      "text/plain": [
       "(8,)"
      ]
     },
     "execution_count": 40,
     "metadata": {},
     "output_type": "execute_result"
    }
   ],
   "source": [
    "np.shape(wv_signal[0])"
   ]
  },
  {
   "cell_type": "code",
   "execution_count": 12,
   "metadata": {},
   "outputs": [
    {
     "data": {
      "text/html": [
       "<div>\n",
       "<style scoped>\n",
       "    .dataframe tbody tr th:only-of-type {\n",
       "        vertical-align: middle;\n",
       "    }\n",
       "\n",
       "    .dataframe tbody tr th {\n",
       "        vertical-align: top;\n",
       "    }\n",
       "\n",
       "    .dataframe thead th {\n",
       "        text-align: right;\n",
       "    }\n",
       "</style>\n",
       "<table border=\"1\" class=\"dataframe\">\n",
       "  <thead>\n",
       "    <tr style=\"text-align: right;\">\n",
       "      <th></th>\n",
       "      <th>a</th>\n",
       "      <th>b</th>\n",
       "    </tr>\n",
       "  </thead>\n",
       "  <tbody>\n",
       "    <tr>\n",
       "      <th>0</th>\n",
       "      <td>[0.0022614720597588876, 0.0011573748008248718,...</td>\n",
       "      <td>NaN</td>\n",
       "    </tr>\n",
       "  </tbody>\n",
       "</table>\n",
       "</div>"
      ],
      "text/plain": [
       "                                                   a    b\n",
       "0  [0.0022614720597588876, 0.0011573748008248718,...  NaN"
      ]
     },
     "execution_count": 12,
     "metadata": {},
     "output_type": "execute_result"
    }
   ],
   "source": [
    "df_toto = pd.DataFrame(columns=('a','b'))\n",
    "df_toto.loc[0,'a'] = spectre_MSG\n",
    "# df_toto.at[0,'a'] = spectre_MSG\n",
    "df_toto\n"
   ]
  },
  {
   "cell_type": "code",
   "execution_count": 13,
   "metadata": {},
   "outputs": [
    {
     "data": {
      "text/plain": [
       "[0.0022614720597588876,\n",
       " 0.0011573748008248718,\n",
       " 0.001408700826141567,\n",
       " 0.0022464764098959504,\n",
       " 0.0018244359814252945,\n",
       " 0.001211264730814184,\n",
       " 0.0017406616091007634,\n",
       " 0.001337676323693058,\n",
       " 0.0009383201028620341,\n",
       " 0.0011237615776631587,\n",
       " 0.0011132080156511398,\n",
       " 0.0011128249370068609]"
      ]
     },
     "execution_count": 13,
     "metadata": {},
     "output_type": "execute_result"
    }
   ],
   "source": [
    "df_toto.loc[0,'a']"
   ]
  },
  {
   "cell_type": "code",
   "execution_count": 64,
   "metadata": {},
   "outputs": [
    {
     "data": {
      "text/plain": [
       "0    [[0.0014297593020164343, 0.0016994897945905342...\n",
       "0    [[0.0014297593020164343, 0.0016994897945905342...\n",
       "Name: spectre_MSG, dtype: object"
      ]
     },
     "execution_count": 64,
     "metadata": {},
     "output_type": "execute_result"
    }
   ],
   "source": [
    "aa[0]"
   ]
  },
  {
   "cell_type": "code",
   "execution_count": 49,
   "metadata": {},
   "outputs": [
    {
     "data": {
      "text/plain": [
       "(1, 2)"
      ]
     },
     "execution_count": 49,
     "metadata": {},
     "output_type": "execute_result"
    }
   ],
   "source": [
    "np.shape([[2,3]])"
   ]
  },
  {
   "cell_type": "code",
   "execution_count": 31,
   "metadata": {},
   "outputs": [
    {
     "data": {
      "text/plain": [
       "(2,)"
      ]
     },
     "execution_count": 31,
     "metadata": {},
     "output_type": "execute_result"
    }
   ],
   "source": [
    "np.shape(np.transpose(np.array([2,3])))"
   ]
  },
  {
   "cell_type": "code",
   "execution_count": null,
   "metadata": {},
   "outputs": [],
   "source": [
    "df_model_all_seizure"
   ]
  },
  {
   "cell_type": "code",
   "execution_count": null,
   "metadata": {},
   "outputs": [],
   "source": [
    "def loc_get_epoch_df(df,no_epoch,duree_epoch):\n",
    "    \n",
    "    '''\n",
    "    return a df of duree_epoch long centerd on \n",
    "    no_epoch * duree_epoch / 2\n",
    "    '''\n",
    "    window_overlap = duree_epoch / 2\n",
    "    df_loc = df[(df.timeline > no_epoch * window_overlap) & \n",
    "    (df.timeline < (no_epoch+2) * window_overlap)]\n",
    "    \n",
    "    return(df_loc)\n"
   ]
  },
  {
   "cell_type": "code",
   "execution_count": null,
   "metadata": {},
   "outputs": [],
   "source": [
    "toto = return_norm_L1\n",
    "toto([-2,2])"
   ]
  }
 ],
 "metadata": {
  "interpreter": {
   "hash": "113a27b0e8cbe8689513076911ef4cab336106dd7d416625cea464eba1400868"
  },
  "kernelspec": {
   "display_name": "Python 3.7.0 ('env_edf': conda)",
   "language": "python",
   "name": "python3"
  },
  "language_info": {
   "codemirror_mode": {
    "name": "ipython",
    "version": 3
   },
   "file_extension": ".py",
   "mimetype": "text/x-python",
   "name": "python",
   "nbconvert_exporter": "python",
   "pygments_lexer": "ipython3",
   "version": "3.7.0"
  },
  "orig_nbformat": 4
 },
 "nbformat": 4,
 "nbformat_minor": 2
}
