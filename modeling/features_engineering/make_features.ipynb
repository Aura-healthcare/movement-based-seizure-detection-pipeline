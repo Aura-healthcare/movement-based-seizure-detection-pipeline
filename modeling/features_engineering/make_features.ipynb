{
 "cells": [
  {
   "cell_type": "code",
   "execution_count": 1,
   "metadata": {},
   "outputs": [],
   "source": [
    "import pandas as pd\n",
    "import numpy as np\n",
    "from numpy.fft import fft\n",
    "import sys\n",
    "import os\n",
    "import logging\n",
    "sys.path.insert(0, '../')\n",
    "import features_engineering_functions  as fef\n",
    "sys.path.insert(0, '../..')\n",
    "from config import *"
   ]
  },
  {
   "cell_type": "code",
   "execution_count": 25,
   "metadata": {},
   "outputs": [],
   "source": []
  },
  {
   "cell_type": "markdown",
   "metadata": {},
   "source": [
    "# Models parameters, features and constants"
   ]
  },
  {
   "cell_type": "code",
   "execution_count": 2,
   "metadata": {},
   "outputs": [],
   "source": [
    "\n",
    "\n",
    "'''\n",
    "files and directory gestion, the test file is csv_test\n",
    "'''\n",
    "DIR_CSV_MODEL = DIR_TAGGED_EVT\n",
    "DIR_SAVE_FEATURES = 'saved_features/'\n",
    "list_evt_files = os.listdir(DIR_CSV_MODEL)[1:] # le 1 c'est pour éviter le gitkeep\n",
    "\n",
    "'''\n",
    "Model hyperparmeters and constants\n",
    "'''\n",
    "DUREE_EPOCH = 5\n",
    "WINDOW_OVERLAP = DUREE_EPOCH / 2\n",
    "ENTROPY_WINDOWS = [[0,DUREE_EPOCH / 2],[DUREE_EPOCH / 2 , DUREE_EPOCH]]\n",
    "\n",
    "list_evt_infos_columns = ['evt_name','epoch_nb','label']\n",
    "list_members = LIST_MODEL_MEMBERS\n"
   ]
  },
  {
   "cell_type": "code",
   "execution_count": 3,
   "metadata": {},
   "outputs": [],
   "source": [
    "'''\n",
    "Time features\n",
    "'''\n",
    "list_time_features = ['mean','std','min','max','mean_absolute','up_down']\n",
    "dic_tf_functions = fef.get_dic_time_features_functions()\n",
    "list_time_features = fef.get_times_features_name(list_members,list_time_features)\n",
    "\n",
    "'''\n",
    "Entropy features\n",
    "'''\n",
    "entropy_features = ['ent_tot','ent_left','ent_right']\n",
    "list_entropy_features = fef.get_entropy_features_name(list_members,entropy_features)\n",
    "\n",
    "'''\n",
    "Fourier features and parameters\n",
    "'''\n",
    "\n",
    "fourier_window_size = DUREE_EPOCH\n",
    "\n",
    "list_intervalle_frequence_fourier = [0,5,9,23]\n",
    "list_fourier_features = fef.get_fourier_features_names(list_intervalle_frequence_fourier,list_members)\n",
    "\n",
    "'''\n",
    "wavelet features\n",
    "'''\n",
    "\n",
    "'''\n",
    "All features with meta data\n",
    "'''\n",
    "list_all_features = fef.make_all_features_list(list_time_features,list_fourier_features,list_entropy_features,True)\n",
    "list_all_features = list_all_features + ['correlation', 'spectre_MSG','spectre_MSD']\n",
    "\n"
   ]
  },
  {
   "cell_type": "code",
   "execution_count": 7,
   "metadata": {},
   "outputs": [
    {
     "name": "stdout",
     "output_type": "stream",
     "text": [
      "i =  0\n",
      "it =  1\n",
      "i =  1\n",
      "20100319T093900RIG.csv  is out of bornes\n",
      "i =  2\n",
      "20100319T104200RIG.csv  is out of bornes\n",
      "i =  3\n",
      "20100319T103600RIG.csv  is out of bornes\n",
      "i =  4\n",
      "20100319T094600RIG.csv  is out of bornes\n",
      "i =  5\n",
      "20100319T102954RIG.csv  is out of bornes\n",
      "i =  6\n",
      "it =  2\n",
      "i =  7\n",
      "it =  3\n",
      "i =  8\n",
      "it =  4\n",
      "i =  9\n",
      "it =  5\n",
      "i =  10\n",
      "it =  6\n",
      "i =  11\n",
      "it =  7\n",
      "i =  12\n",
      "it =  8\n",
      "i =  13\n",
      "it =  9\n",
      "i =  14\n",
      "it =  10\n",
      "i =  15\n",
      "it =  11\n",
      "i =  16\n",
      "it =  12\n",
      "i =  17\n",
      "it =  13\n",
      "i =  18\n",
      "it =  14\n",
      "i =  19\n",
      "it =  15\n",
      "i =  20\n",
      "it =  16\n",
      "i =  21\n",
      "it =  17\n",
      "i =  22\n",
      "it =  18\n",
      "i =  23\n",
      "20051130T105454MARMIR.csv  is out of bornes\n",
      "i =  24\n",
      "it =  19\n",
      "i =  25\n",
      "20100308T143600RHM.csv  is out of bornes\n",
      "i =  26\n",
      "20100308T153300RHM.csv  is out of bornes\n",
      "i =  27\n",
      "20100308T150400RHM.csv  is out of bornes\n",
      "i =  28\n",
      "20090825T094800TOT.csv  is out of bornes\n",
      "i =  29\n",
      "20090825T111900TOT.csv  is out of bornes\n",
      "i =  30\n",
      "20091120T095503KSY.csv  is out of bornes\n",
      "i =  31\n",
      "it =  20\n",
      "i =  32\n",
      "it =  21\n",
      "i =  33\n",
      "it =  22\n",
      "i =  34\n",
      "20100520T155400EXC.csv  is out of bornes\n",
      "i =  35\n",
      "20051219T102600MORGUI2.csv  is out of bornes\n",
      "i =  36\n",
      "20051219T102600MORGUI.csv  is out of bornes\n",
      "i =  37\n",
      "it =  23\n",
      "i =  38\n",
      "it =  24\n",
      "i =  39\n",
      "20090717T093800RAS.csv  is out of bornes\n",
      "i =  40\n",
      "20100108T112800KAB.csv  is out of bornes\n",
      "i =  41\n",
      "it =  25\n",
      "i =  42\n",
      "it =  26\n",
      "i =  43\n",
      "20100107T155500KAB.csv  is out of bornes\n",
      "i =  44\n",
      "it =  27\n",
      "i =  45\n",
      "it =  28\n",
      "i =  46\n",
      "20100107T104800KAB.csv  is out of bornes\n",
      "i =  47\n",
      "it =  29\n",
      "i =  48\n",
      "it =  30\n",
      "i =  49\n",
      "it =  31\n",
      "i =  50\n",
      "it =  32\n",
      "i =  51\n",
      "20100317T154800RIG.csv  is out of bornes\n",
      "i =  52\n",
      "20100317T161100RIG.csv  is out of bornes\n",
      "i =  53\n",
      "it =  33\n",
      "i =  54\n",
      "it =  34\n",
      "i =  55\n",
      "it =  35\n",
      "i =  56\n",
      "it =  36\n",
      "i =  57\n",
      "it =  37\n",
      "i =  58\n",
      "it =  38\n",
      "i =  59\n",
      "it =  39\n",
      "i =  60\n",
      "it =  40\n",
      "i =  61\n",
      "20100826T131038OUE.csv  is out of bornes\n",
      "i =  62\n",
      "it =  41\n",
      "i =  63\n",
      "20100111T121300KAB.csv  is out of bornes\n",
      "i =  64\n",
      "20100111T112000KAB.csv  is out of bornes\n",
      "i =  65\n",
      "20100112T102000KAB.csv  is out of bornes\n",
      "i =  66\n",
      "20100702T143500MIJ.csv  is out of bornes\n",
      "i =  67\n",
      "20100414T103300MOR.csv  is out of bornes\n",
      "i =  68\n",
      "it =  42\n",
      "i =  69\n",
      "20091211T105600MOG.csv  is out of bornes\n",
      "i =  70\n",
      "it =  43\n",
      "i =  71\n",
      "it =  44\n",
      "i =  72\n",
      "20060223T133700PANGAE.csv  is out of bornes\n",
      "i =  73\n",
      "it =  45\n",
      "i =  74\n",
      "it =  46\n",
      "i =  75\n",
      "it =  47\n",
      "i =  76\n",
      "20091123T104740KSY.csv  is out of bornes\n",
      "i =  77\n",
      "20090825T134600FAJ.csv  is out of bornes\n",
      "i =  78\n",
      "it =  48\n",
      "i =  79\n",
      "it =  49\n",
      "i =  80\n",
      "it =  50\n",
      "i =  81\n",
      "it =  51\n",
      "i =  82\n",
      "20100121T110600POS.csv  is out of bornes\n",
      "i =  83\n",
      "20090715T141400RAS.csv  is out of bornes\n",
      "i =  84\n",
      "it =  52\n",
      "i =  85\n",
      "it =  53\n",
      "i =  86\n",
      "it =  54\n",
      "i =  87\n",
      "20051129T104837MARMIR.csv  is out of bornes\n",
      "i =  88\n",
      "20100819T144000TEA.csv  is out of bornes\n",
      "i =  89\n",
      "it =  55\n",
      "i =  90\n",
      "it =  56\n",
      "i =  91\n",
      "it =  57\n",
      "i =  92\n",
      "it =  58\n",
      "i =  93\n",
      "it =  59\n",
      "i =  94\n",
      "20051201T101500MARMIR.csv  is out of bornes\n",
      "i =  95\n",
      "20051201T114326MARMIR.csv  is out of bornes\n",
      "i =  96\n",
      "20051220T092100MORGUI.csv  is out of bornes\n",
      "i =  97\n",
      "20100520T104600EXC.csv  is out of bornes\n",
      "i =  98\n",
      "20100310T155530RHM.csv  is out of bornes\n",
      "i =  99\n",
      "20100824T133400DEC.csv  is out of bornes\n",
      "i =  100\n",
      "20100721T092200BED.csv  is out of bornes\n",
      "i =  101\n",
      "20090825T142500TOT.csv  is out of bornes\n",
      "i =  102\n",
      "20100310T102400RHM.csv  is out of bornes\n",
      "i =  103\n",
      "20100721T095700ERQ.csv  is out of bornes\n",
      "i =  104\n",
      "it =  60\n",
      "i =  105\n",
      "it =  61\n",
      "i =  106\n",
      "it =  62\n",
      "i =  107\n",
      "20051129T152406MARMIR.csv  is out of bornes\n",
      "i =  108\n",
      "20100721T092000ERQ.csv  is out of bornes\n"
     ]
    }
   ],
   "source": [
    "df_model_all_seizure = pd.DataFrame(columns=list_all_features)\n",
    "df_model_all_seizure = df_model_all_seizure.astype({\"spectre_MSG\" : object})\n",
    "df_model_all_seizure = df_model_all_seizure.astype({\"spectre_MSD\" : object})\n",
    "csv_saving_name = 'saved_features_E{}'.format(DUREE_EPOCH)\n",
    "save_files = False\n",
    "i,it = 0,0\n",
    "borne_acc = 0.04\n",
    "list_file_temp = list_evt_files\n",
    "print('le nb de fichier à traiter est de {}'.format(len(list_file_temp)))\n",
    "for i,csv_name in enumerate(list_file_temp):\n",
    "    print('fichier no ', i)\n",
    "    df_data_csv,mean_msg,mean_msd = fef.make_model_df_from_csv(csv_name,DIR_CSV_MODEL)\n",
    "\n",
    "    '''\n",
    "    We select only files with acceleration mean betweene 1 - ba & 1 + ba\n",
    "    '''\n",
    "    if ((1-borne_acc) < mean_msg < (1+borne_acc)) & ((1-borne_acc) < mean_msd < (1+borne_acc)):\n",
    "        it += 1\n",
    "        df_data_csv['MSG'] = df_data_csv['MSG'] - df_data_csv['MSG'].mean()\n",
    "        df_data_csv['MSD'] = df_data_csv['MSD'] - df_data_csv['MSD'].mean()\n",
    "        df_data_csv['seizure'] = [k > 0 for k in df_data_csv['seizure'].tolist()]\n",
    "\n",
    "        df_model_one_seizure,nb_epoch = fef.make_model_df(df_data_csv,list_all_features,DUREE_EPOCH)\n",
    "        df_model_one_seizure = df_model_one_seizure.astype({\"spectre_MSG\" : object})\n",
    "        df_model_one_seizure = df_model_one_seizure.astype({\"spectre_MSD\" : object})\n",
    "\n",
    "        for epoch in range(nb_epoch):\n",
    "            df_epoch = fef.get_epoch_df(df_data_csv,epoch,duree_epoch = DUREE_EPOCH)\n",
    "            df_model_one_seizure.loc[epoch,'epoch_nb'] = epoch\n",
    "            df_model_one_seizure.loc[epoch,'label'] = df_epoch.seizure.mean()\n",
    "            df_model_one_seizure.loc[epoch,list_time_features] = fef.get_times_features_value(df_epoch,list_members,dic_tf_functions)\n",
    "            ff_MSG,spectre_MSG = fef.get_epoch_fourier_features(df_epoch,'MSG',list_intervalle_frequence_fourier)\n",
    "            ff_MSD,spectre_MSD = fef.get_epoch_fourier_features(df_epoch,'MSD',list_intervalle_frequence_fourier)\n",
    "            df_model_one_seizure.loc[epoch,list_fourier_features] = ff_MSG + ff_MSD\n",
    "            df_model_one_seizure.at[epoch,'spectre_MSG'] = spectre_MSG\n",
    "            df_model_one_seizure.at[epoch,'spectre_MSD'] = spectre_MSD\n",
    "            correlation = df_epoch[['MSG','MSD']].corr().iloc[0,1]\n",
    "            ent_MSG = fef.get_entropy_from_epoch(df_epoch['MSG'],300,'MSG')\n",
    "            ent_MSD = fef.get_entropy_from_epoch(df_epoch['MSD'],300,'MSD')\n",
    "            df_model_one_seizure.loc[epoch,list_entropy_features] = ent_MSG + ent_MSD\n",
    "            df_model_one_seizure.loc[epoch,'correlation'] = correlation\n",
    "            \n",
    "        df_model_one_seizure['evt_name'] = csv_name[:-4]\n",
    "\n",
    "        df_model_all_seizure = pd.concat([df_model_all_seizure,df_model_one_seizure]) \n",
    "            \n",
    "    else: \n",
    "        print(csv_name, ' is out of bornes')   \n",
    "    \n",
    "    if save_files:\n",
    "        df_model_all_seizure.to_csv(DIR_SAVE_FEATURES + csv_saving_name)\n"
   ]
  },
  {
   "cell_type": "code",
   "execution_count": 16,
   "metadata": {},
   "outputs": [
    {
     "data": {
      "text/plain": [
       "5"
      ]
     },
     "execution_count": 16,
     "metadata": {},
     "output_type": "execute_result"
    }
   ],
   "source": [
    "len(set(df_model_all_seizure.evt_name.tolist()))"
   ]
  },
  {
   "cell_type": "code",
   "execution_count": 18,
   "metadata": {},
   "outputs": [],
   "source": [
    "member = 'MSD'\n",
    "wavelet_type = 'db1'\n",
    "wavelet_level = 5\n",
    "'''\n",
    "return a df for graf and e discret wavelet heatmap, arguments are : \n",
    "    - acc data csv name\n",
    "    - member (MSG or MSD)\n",
    "    - discret wavelet trype\n",
    "    - number of coefficient level required\n",
    "'''\n",
    "df_graf = df_epoch.copy(deep = True) # pd.read_csv(csv_path,index_col = 0)"
   ]
  },
  {
   "cell_type": "code",
   "execution_count": 21,
   "metadata": {},
   "outputs": [],
   "source": [
    "import pywt"
   ]
  },
  {
   "cell_type": "code",
   "execution_count": 23,
   "metadata": {},
   "outputs": [
    {
     "name": "stdout",
     "output_type": "stream",
     "text": [
      "db1\n"
     ]
    }
   ],
   "source": [
    "\n",
    "df_graf.timeline = [round(i) - df_graf.timeline.iloc[0] for i in list(df_graf.timeline)]\n",
    "\n",
    "np_x = df_graf[member].to_numpy()\n",
    "np_x = np_x - np.mean(np_x) #pour ne pas charger les plus basses fréquences\n",
    "    # np_x = np_x[10000:15000]\n",
    "print(wavelet_type)\n",
    "wv_signal = pywt.wavedec(np_x,wavelet_type,level = wavelet_level)\n",
    "# df_frequency_for_heatmap = utils.return_frequency_dataframe(wv_signal)\n"
   ]
  },
  {
   "cell_type": "code",
   "execution_count": 40,
   "metadata": {},
   "outputs": [
    {
     "data": {
      "text/plain": [
       "(8,)"
      ]
     },
     "execution_count": 40,
     "metadata": {},
     "output_type": "execute_result"
    }
   ],
   "source": [
    "np.shape(wv_signal[0])"
   ]
  },
  {
   "cell_type": "code",
   "execution_count": 12,
   "metadata": {},
   "outputs": [
    {
     "data": {
      "text/html": [
       "<div>\n",
       "<style scoped>\n",
       "    .dataframe tbody tr th:only-of-type {\n",
       "        vertical-align: middle;\n",
       "    }\n",
       "\n",
       "    .dataframe tbody tr th {\n",
       "        vertical-align: top;\n",
       "    }\n",
       "\n",
       "    .dataframe thead th {\n",
       "        text-align: right;\n",
       "    }\n",
       "</style>\n",
       "<table border=\"1\" class=\"dataframe\">\n",
       "  <thead>\n",
       "    <tr style=\"text-align: right;\">\n",
       "      <th></th>\n",
       "      <th>a</th>\n",
       "      <th>b</th>\n",
       "    </tr>\n",
       "  </thead>\n",
       "  <tbody>\n",
       "    <tr>\n",
       "      <th>0</th>\n",
       "      <td>[0.0022614720597588876, 0.0011573748008248718,...</td>\n",
       "      <td>NaN</td>\n",
       "    </tr>\n",
       "  </tbody>\n",
       "</table>\n",
       "</div>"
      ],
      "text/plain": [
       "                                                   a    b\n",
       "0  [0.0022614720597588876, 0.0011573748008248718,...  NaN"
      ]
     },
     "execution_count": 12,
     "metadata": {},
     "output_type": "execute_result"
    }
   ],
   "source": [
    "df_toto = pd.DataFrame(columns=('a','b'))\n",
    "df_toto.loc[0,'a'] = spectre_MSG\n",
    "# df_toto.at[0,'a'] = spectre_MSG\n",
    "df_toto\n"
   ]
  },
  {
   "cell_type": "code",
   "execution_count": 13,
   "metadata": {},
   "outputs": [
    {
     "data": {
      "text/plain": [
       "[0.0022614720597588876,\n",
       " 0.0011573748008248718,\n",
       " 0.001408700826141567,\n",
       " 0.0022464764098959504,\n",
       " 0.0018244359814252945,\n",
       " 0.001211264730814184,\n",
       " 0.0017406616091007634,\n",
       " 0.001337676323693058,\n",
       " 0.0009383201028620341,\n",
       " 0.0011237615776631587,\n",
       " 0.0011132080156511398,\n",
       " 0.0011128249370068609]"
      ]
     },
     "execution_count": 13,
     "metadata": {},
     "output_type": "execute_result"
    }
   ],
   "source": [
    "df_toto.loc[0,'a']"
   ]
  },
  {
   "cell_type": "code",
   "execution_count": 64,
   "metadata": {},
   "outputs": [
    {
     "data": {
      "text/plain": [
       "0    [[0.0014297593020164343, 0.0016994897945905342...\n",
       "0    [[0.0014297593020164343, 0.0016994897945905342...\n",
       "Name: spectre_MSG, dtype: object"
      ]
     },
     "execution_count": 64,
     "metadata": {},
     "output_type": "execute_result"
    }
   ],
   "source": [
    "aa[0]"
   ]
  },
  {
   "cell_type": "code",
   "execution_count": 49,
   "metadata": {},
   "outputs": [
    {
     "data": {
      "text/plain": [
       "(1, 2)"
      ]
     },
     "execution_count": 49,
     "metadata": {},
     "output_type": "execute_result"
    }
   ],
   "source": [
    "np.shape([[2,3]])"
   ]
  },
  {
   "cell_type": "code",
   "execution_count": 31,
   "metadata": {},
   "outputs": [
    {
     "data": {
      "text/plain": [
       "(2,)"
      ]
     },
     "execution_count": 31,
     "metadata": {},
     "output_type": "execute_result"
    }
   ],
   "source": [
    "np.shape(np.transpose(np.array([2,3])))"
   ]
  },
  {
   "cell_type": "code",
   "execution_count": null,
   "metadata": {},
   "outputs": [],
   "source": [
    "df_model_all_seizure"
   ]
  },
  {
   "cell_type": "code",
   "execution_count": null,
   "metadata": {},
   "outputs": [],
   "source": [
    "def loc_get_epoch_df(df,no_epoch,duree_epoch):\n",
    "    \n",
    "    '''\n",
    "    return a df of duree_epoch long centerd on \n",
    "    no_epoch * duree_epoch / 2\n",
    "    '''\n",
    "    window_overlap = duree_epoch / 2\n",
    "    df_loc = df[(df.timeline > no_epoch * window_overlap) & \n",
    "    (df.timeline < (no_epoch+2) * window_overlap)]\n",
    "    \n",
    "    return(df_loc)\n"
   ]
  },
  {
   "cell_type": "code",
   "execution_count": null,
   "metadata": {},
   "outputs": [],
   "source": [
    "toto = return_norm_L1\n",
    "toto([-2,2])"
   ]
  }
 ],
 "metadata": {
  "interpreter": {
   "hash": "113a27b0e8cbe8689513076911ef4cab336106dd7d416625cea464eba1400868"
  },
  "kernelspec": {
   "display_name": "Python 3.7.0 ('env_edf': conda)",
   "language": "python",
   "name": "python3"
  },
  "language_info": {
   "codemirror_mode": {
    "name": "ipython",
    "version": 3
   },
   "file_extension": ".py",
   "mimetype": "text/x-python",
   "name": "python",
   "nbconvert_exporter": "python",
   "pygments_lexer": "ipython3",
   "version": "3.7.0"
  },
  "orig_nbformat": 4
 },
 "nbformat": 4,
 "nbformat_minor": 2
}
